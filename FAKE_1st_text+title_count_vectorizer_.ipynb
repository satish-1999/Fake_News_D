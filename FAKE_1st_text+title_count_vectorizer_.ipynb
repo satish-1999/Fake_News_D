{
  "nbformat": 4,
  "nbformat_minor": 0,
  "metadata": {
    "colab": {
      "name": "FAKE 1st text+title count vectorizer .ipynb",
      "provenance": [],
      "collapsed_sections": [],
      "authorship_tag": "ABX9TyO4ZSqnt0uqK0yWS+XmAVq3",
      "include_colab_link": true
    },
    "kernelspec": {
      "display_name": "Python 3",
      "name": "python3"
    }
  },
  "cells": [
    {
      "cell_type": "markdown",
      "metadata": {
        "id": "view-in-github",
        "colab_type": "text"
      },
      "source": [
        "<a href=\"https://colab.research.google.com/github/satish-1999/Fake_News_D/blob/main/FAKE_1st_text%2Btitle_count_vectorizer_.ipynb\" target=\"_parent\"><img src=\"https://colab.research.google.com/assets/colab-badge.svg\" alt=\"Open In Colab\"/></a>"
      ]
    },
    {
      "cell_type": "code",
      "metadata": {
        "colab": {
          "base_uri": "https://localhost:8080/"
        },
        "id": "rSeL7vnnZFfm",
        "outputId": "5a18c479-aa81-4afd-af35-ff8a118513cc"
      },
      "source": [
        "from google.colab import drive\n",
        "drive.mount('/content/drive')"
      ],
      "execution_count": null,
      "outputs": [
        {
          "output_type": "stream",
          "text": [
            "Mounted at /content/drive\n"
          ],
          "name": "stdout"
        }
      ]
    },
    {
      "cell_type": "code",
      "metadata": {
        "id": "2J-fNHLaZLqp"
      },
      "source": [
        "import numpy as np\n",
        "import pandas as pd\n",
        "import matplotlib.pyplot as plt\n",
        "import seaborn as sns\n",
        "from wordcloud import WordCloud, STOPWORDS "
      ],
      "execution_count": null,
      "outputs": []
    },
    {
      "cell_type": "code",
      "metadata": {
        "id": "49KmlQMSZLnx"
      },
      "source": [
        "data=pd.read_csv('/content/drive/MyDrive/FAKE NEWS/train.csv')\n"
      ],
      "execution_count": null,
      "outputs": []
    },
    {
      "cell_type": "code",
      "metadata": {
        "colab": {
          "base_uri": "https://localhost:8080/",
          "height": 415
        },
        "id": "cEXoHAHjZLkS",
        "outputId": "fd9b0d2b-1870-429a-f8ea-e7b1688fa917"
      },
      "source": [
        "data.drop('author',axis=1)"
      ],
      "execution_count": null,
      "outputs": [
        {
          "output_type": "execute_result",
          "data": {
            "text/html": [
              "<div>\n",
              "<style scoped>\n",
              "    .dataframe tbody tr th:only-of-type {\n",
              "        vertical-align: middle;\n",
              "    }\n",
              "\n",
              "    .dataframe tbody tr th {\n",
              "        vertical-align: top;\n",
              "    }\n",
              "\n",
              "    .dataframe thead th {\n",
              "        text-align: right;\n",
              "    }\n",
              "</style>\n",
              "<table border=\"1\" class=\"dataframe\">\n",
              "  <thead>\n",
              "    <tr style=\"text-align: right;\">\n",
              "      <th></th>\n",
              "      <th>id</th>\n",
              "      <th>title</th>\n",
              "      <th>text</th>\n",
              "      <th>label</th>\n",
              "    </tr>\n",
              "  </thead>\n",
              "  <tbody>\n",
              "    <tr>\n",
              "      <th>0</th>\n",
              "      <td>0</td>\n",
              "      <td>House Dem Aide: We Didn’t Even See Comey’s Let...</td>\n",
              "      <td>House Dem Aide: We Didn’t Even See Comey’s Let...</td>\n",
              "      <td>1</td>\n",
              "    </tr>\n",
              "    <tr>\n",
              "      <th>1</th>\n",
              "      <td>1</td>\n",
              "      <td>FLYNN: Hillary Clinton, Big Woman on Campus - ...</td>\n",
              "      <td>Ever get the feeling your life circles the rou...</td>\n",
              "      <td>0</td>\n",
              "    </tr>\n",
              "    <tr>\n",
              "      <th>2</th>\n",
              "      <td>2</td>\n",
              "      <td>Why the Truth Might Get You Fired</td>\n",
              "      <td>Why the Truth Might Get You Fired October 29, ...</td>\n",
              "      <td>1</td>\n",
              "    </tr>\n",
              "    <tr>\n",
              "      <th>3</th>\n",
              "      <td>3</td>\n",
              "      <td>15 Civilians Killed In Single US Airstrike Hav...</td>\n",
              "      <td>Videos 15 Civilians Killed In Single US Airstr...</td>\n",
              "      <td>1</td>\n",
              "    </tr>\n",
              "    <tr>\n",
              "      <th>4</th>\n",
              "      <td>4</td>\n",
              "      <td>Iranian woman jailed for fictional unpublished...</td>\n",
              "      <td>Print \\nAn Iranian woman has been sentenced to...</td>\n",
              "      <td>1</td>\n",
              "    </tr>\n",
              "    <tr>\n",
              "      <th>...</th>\n",
              "      <td>...</td>\n",
              "      <td>...</td>\n",
              "      <td>...</td>\n",
              "      <td>...</td>\n",
              "    </tr>\n",
              "    <tr>\n",
              "      <th>20795</th>\n",
              "      <td>20795</td>\n",
              "      <td>Rapper T.I.: Trump a ’Poster Child For White S...</td>\n",
              "      <td>Rapper T. I. unloaded on black celebrities who...</td>\n",
              "      <td>0</td>\n",
              "    </tr>\n",
              "    <tr>\n",
              "      <th>20796</th>\n",
              "      <td>20796</td>\n",
              "      <td>N.F.L. Playoffs: Schedule, Matchups and Odds -...</td>\n",
              "      <td>When the Green Bay Packers lost to the Washing...</td>\n",
              "      <td>0</td>\n",
              "    </tr>\n",
              "    <tr>\n",
              "      <th>20797</th>\n",
              "      <td>20797</td>\n",
              "      <td>Macy’s Is Said to Receive Takeover Approach by...</td>\n",
              "      <td>The Macy’s of today grew from the union of sev...</td>\n",
              "      <td>0</td>\n",
              "    </tr>\n",
              "    <tr>\n",
              "      <th>20798</th>\n",
              "      <td>20798</td>\n",
              "      <td>NATO, Russia To Hold Parallel Exercises In Bal...</td>\n",
              "      <td>NATO, Russia To Hold Parallel Exercises In Bal...</td>\n",
              "      <td>1</td>\n",
              "    </tr>\n",
              "    <tr>\n",
              "      <th>20799</th>\n",
              "      <td>20799</td>\n",
              "      <td>What Keeps the F-35 Alive</td>\n",
              "      <td>David Swanson is an author, activist, journa...</td>\n",
              "      <td>1</td>\n",
              "    </tr>\n",
              "  </tbody>\n",
              "</table>\n",
              "<p>20800 rows × 4 columns</p>\n",
              "</div>"
            ],
            "text/plain": [
              "          id  ... label\n",
              "0          0  ...     1\n",
              "1          1  ...     0\n",
              "2          2  ...     1\n",
              "3          3  ...     1\n",
              "4          4  ...     1\n",
              "...      ...  ...   ...\n",
              "20795  20795  ...     0\n",
              "20796  20796  ...     0\n",
              "20797  20797  ...     0\n",
              "20798  20798  ...     1\n",
              "20799  20799  ...     1\n",
              "\n",
              "[20800 rows x 4 columns]"
            ]
          },
          "metadata": {
            "tags": []
          },
          "execution_count": 4
        }
      ]
    },
    {
      "cell_type": "code",
      "metadata": {
        "id": "kJFStVkiavVY"
      },
      "source": [
        "data['news'] = data['text'] + data['title']"
      ],
      "execution_count": null,
      "outputs": []
    },
    {
      "cell_type": "code",
      "metadata": {
        "id": "BAq54j3EbXso"
      },
      "source": [
        "y=data['label']"
      ],
      "execution_count": null,
      "outputs": []
    },
    {
      "cell_type": "code",
      "metadata": {
        "colab": {
          "base_uri": "https://localhost:8080/"
        },
        "id": "UX9iAVIVbc2x",
        "outputId": "5a898914-91ad-4256-821f-365bd4e64b09"
      },
      "source": [
        "len(y)"
      ],
      "execution_count": null,
      "outputs": [
        {
          "output_type": "execute_result",
          "data": {
            "text/plain": [
              "20800"
            ]
          },
          "metadata": {
            "tags": []
          },
          "execution_count": 7
        }
      ]
    },
    {
      "cell_type": "code",
      "metadata": {
        "colab": {
          "base_uri": "https://localhost:8080/",
          "height": 563
        },
        "id": "0DBGvNiCbvp4",
        "outputId": "f8c1ce7f-64bc-4ee4-8629-073ef91b1116"
      },
      "source": [
        "data.head(10)"
      ],
      "execution_count": null,
      "outputs": [
        {
          "output_type": "execute_result",
          "data": {
            "text/html": [
              "<div>\n",
              "<style scoped>\n",
              "    .dataframe tbody tr th:only-of-type {\n",
              "        vertical-align: middle;\n",
              "    }\n",
              "\n",
              "    .dataframe tbody tr th {\n",
              "        vertical-align: top;\n",
              "    }\n",
              "\n",
              "    .dataframe thead th {\n",
              "        text-align: right;\n",
              "    }\n",
              "</style>\n",
              "<table border=\"1\" class=\"dataframe\">\n",
              "  <thead>\n",
              "    <tr style=\"text-align: right;\">\n",
              "      <th></th>\n",
              "      <th>id</th>\n",
              "      <th>title</th>\n",
              "      <th>author</th>\n",
              "      <th>text</th>\n",
              "      <th>label</th>\n",
              "      <th>news</th>\n",
              "    </tr>\n",
              "  </thead>\n",
              "  <tbody>\n",
              "    <tr>\n",
              "      <th>0</th>\n",
              "      <td>0</td>\n",
              "      <td>House Dem Aide: We Didn’t Even See Comey’s Let...</td>\n",
              "      <td>Darrell Lucus</td>\n",
              "      <td>House Dem Aide: We Didn’t Even See Comey’s Let...</td>\n",
              "      <td>1</td>\n",
              "      <td>House Dem Aide: We Didn’t Even See Comey’s Let...</td>\n",
              "    </tr>\n",
              "    <tr>\n",
              "      <th>1</th>\n",
              "      <td>1</td>\n",
              "      <td>FLYNN: Hillary Clinton, Big Woman on Campus - ...</td>\n",
              "      <td>Daniel J. Flynn</td>\n",
              "      <td>Ever get the feeling your life circles the rou...</td>\n",
              "      <td>0</td>\n",
              "      <td>Ever get the feeling your life circles the rou...</td>\n",
              "    </tr>\n",
              "    <tr>\n",
              "      <th>2</th>\n",
              "      <td>2</td>\n",
              "      <td>Why the Truth Might Get You Fired</td>\n",
              "      <td>Consortiumnews.com</td>\n",
              "      <td>Why the Truth Might Get You Fired October 29, ...</td>\n",
              "      <td>1</td>\n",
              "      <td>Why the Truth Might Get You Fired October 29, ...</td>\n",
              "    </tr>\n",
              "    <tr>\n",
              "      <th>3</th>\n",
              "      <td>3</td>\n",
              "      <td>15 Civilians Killed In Single US Airstrike Hav...</td>\n",
              "      <td>Jessica Purkiss</td>\n",
              "      <td>Videos 15 Civilians Killed In Single US Airstr...</td>\n",
              "      <td>1</td>\n",
              "      <td>Videos 15 Civilians Killed In Single US Airstr...</td>\n",
              "    </tr>\n",
              "    <tr>\n",
              "      <th>4</th>\n",
              "      <td>4</td>\n",
              "      <td>Iranian woman jailed for fictional unpublished...</td>\n",
              "      <td>Howard Portnoy</td>\n",
              "      <td>Print \\nAn Iranian woman has been sentenced to...</td>\n",
              "      <td>1</td>\n",
              "      <td>Print \\nAn Iranian woman has been sentenced to...</td>\n",
              "    </tr>\n",
              "    <tr>\n",
              "      <th>5</th>\n",
              "      <td>5</td>\n",
              "      <td>Jackie Mason: Hollywood Would Love Trump if He...</td>\n",
              "      <td>Daniel Nussbaum</td>\n",
              "      <td>In these trying times, Jackie Mason is the Voi...</td>\n",
              "      <td>0</td>\n",
              "      <td>In these trying times, Jackie Mason is the Voi...</td>\n",
              "    </tr>\n",
              "    <tr>\n",
              "      <th>6</th>\n",
              "      <td>6</td>\n",
              "      <td>Life: Life Of Luxury: Elton John’s 6 Favorite ...</td>\n",
              "      <td>NaN</td>\n",
              "      <td>Ever wonder how Britain’s most iconic pop pian...</td>\n",
              "      <td>1</td>\n",
              "      <td>Ever wonder how Britain’s most iconic pop pian...</td>\n",
              "    </tr>\n",
              "    <tr>\n",
              "      <th>7</th>\n",
              "      <td>7</td>\n",
              "      <td>Benoît Hamon Wins French Socialist Party’s Pre...</td>\n",
              "      <td>Alissa J. Rubin</td>\n",
              "      <td>PARIS  —   France chose an idealistic, traditi...</td>\n",
              "      <td>0</td>\n",
              "      <td>PARIS  —   France chose an idealistic, traditi...</td>\n",
              "    </tr>\n",
              "    <tr>\n",
              "      <th>8</th>\n",
              "      <td>8</td>\n",
              "      <td>Excerpts From a Draft Script for Donald Trump’...</td>\n",
              "      <td>NaN</td>\n",
              "      <td>Donald J. Trump is scheduled to make a highly ...</td>\n",
              "      <td>0</td>\n",
              "      <td>Donald J. Trump is scheduled to make a highly ...</td>\n",
              "    </tr>\n",
              "    <tr>\n",
              "      <th>9</th>\n",
              "      <td>9</td>\n",
              "      <td>A Back-Channel Plan for Ukraine and Russia, Co...</td>\n",
              "      <td>Megan Twohey and Scott Shane</td>\n",
              "      <td>A week before Michael T. Flynn resigned as nat...</td>\n",
              "      <td>0</td>\n",
              "      <td>A week before Michael T. Flynn resigned as nat...</td>\n",
              "    </tr>\n",
              "  </tbody>\n",
              "</table>\n",
              "</div>"
            ],
            "text/plain": [
              "   id  ...                                               news\n",
              "0   0  ...  House Dem Aide: We Didn’t Even See Comey’s Let...\n",
              "1   1  ...  Ever get the feeling your life circles the rou...\n",
              "2   2  ...  Why the Truth Might Get You Fired October 29, ...\n",
              "3   3  ...  Videos 15 Civilians Killed In Single US Airstr...\n",
              "4   4  ...  Print \\nAn Iranian woman has been sentenced to...\n",
              "5   5  ...  In these trying times, Jackie Mason is the Voi...\n",
              "6   6  ...  Ever wonder how Britain’s most iconic pop pian...\n",
              "7   7  ...  PARIS  —   France chose an idealistic, traditi...\n",
              "8   8  ...  Donald J. Trump is scheduled to make a highly ...\n",
              "9   9  ...  A week before Michael T. Flynn resigned as nat...\n",
              "\n",
              "[10 rows x 6 columns]"
            ]
          },
          "metadata": {
            "tags": []
          },
          "execution_count": 8
        }
      ]
    },
    {
      "cell_type": "code",
      "metadata": {
        "id": "88bGLgoaczjI"
      },
      "source": [
        "df=data.iloc[:,3].values"
      ],
      "execution_count": null,
      "outputs": []
    },
    {
      "cell_type": "code",
      "metadata": {
        "colab": {
          "base_uri": "https://localhost:8080/"
        },
        "id": "omXNBaRulThE",
        "outputId": "bbd24835-d0f8-404d-fd79-04d3e00472e5"
      },
      "source": [
        "df"
      ],
      "execution_count": null,
      "outputs": [
        {
          "output_type": "execute_result",
          "data": {
            "text/plain": [
              "array(['House Dem Aide: We Didn’t Even See Comey’s Letter Until Jason Chaffetz Tweeted It By Darrell Lucus on October 30, 2016 Subscribe Jason Chaffetz on the stump in American Fork, Utah ( image courtesy Michael Jolley, available under a Creative Commons-BY license) \\nWith apologies to Keith Olbermann, there is no doubt who the Worst Person in The World is this week–FBI Director James Comey. But according to a House Democratic aide, it looks like we also know who the second-worst person is as well. It turns out that when Comey sent his now-infamous letter announcing that the FBI was looking into emails that may be related to Hillary Clinton’s email server, the ranking Democrats on the relevant committees didn’t hear about it from Comey. They found out via a tweet from one of the Republican committee chairmen. \\nAs we now know, Comey notified the Republican chairmen and Democratic ranking members of the House Intelligence, Judiciary, and Oversight committees that his agency was reviewing emails it had recently discovered in order to see if they contained classified information. Not long after this letter went out, Oversight Committee Chairman Jason Chaffetz set the political world ablaze with this tweet. FBI Dir just informed me, \"The FBI has learned of the existence of emails that appear to be pertinent to the investigation.\" Case reopened \\n— Jason Chaffetz (@jasoninthehouse) October 28, 2016 \\nOf course, we now know that this was not the case . Comey was actually saying that it was reviewing the emails in light of “an unrelated case”–which we now know to be Anthony Weiner’s sexting with a teenager. But apparently such little things as facts didn’t matter to Chaffetz. The Utah Republican had already vowed to initiate a raft of investigations if Hillary wins–at least two years’ worth, and possibly an entire term’s worth of them. Apparently Chaffetz thought the FBI was already doing his work for him–resulting in a tweet that briefly roiled the nation before cooler heads realized it was a dud. \\nBut according to a senior House Democratic aide, misreading that letter may have been the least of Chaffetz’ sins. That aide told Shareblue that his boss and other Democrats didn’t even know about Comey’s letter at the time–and only found out when they checked Twitter. “Democratic Ranking Members on the relevant committees didn’t receive Comey’s letter until after the Republican Chairmen. In fact, the Democratic Ranking Members didn’ receive it until after the Chairman of the Oversight and Government Reform Committee, Jason Chaffetz, tweeted it out and made it public.” \\nSo let’s see if we’ve got this right. The FBI director tells Chaffetz and other GOP committee chairmen about a major development in a potentially politically explosive investigation, and neither Chaffetz nor his other colleagues had the courtesy to let their Democratic counterparts know about it. Instead, according to this aide, he made them find out about it on Twitter. \\nThere has already been talk on Daily Kos that Comey himself provided advance notice of this letter to Chaffetz and other Republicans, giving them time to turn on the spin machine. That may make for good theater, but there is nothing so far that even suggests this is the case. After all, there is nothing so far that suggests that Comey was anything other than grossly incompetent and tone-deaf. \\nWhat it does suggest, however, is that Chaffetz is acting in a way that makes Dan Burton and Darrell Issa look like models of responsibility and bipartisanship. He didn’t even have the decency to notify ranking member Elijah Cummings about something this explosive. If that doesn’t trample on basic standards of fairness, I don’t know what does. \\nGranted, it’s not likely that Chaffetz will have to answer for this. He sits in a ridiculously Republican district anchored in Provo and Orem; it has a Cook Partisan Voting Index of R+25, and gave Mitt Romney a punishing 78 percent of the vote in 2012. Moreover, the Republican House leadership has given its full support to Chaffetz’ planned fishing expedition. But that doesn’t mean we can’t turn the hot lights on him. After all, he is a textbook example of what the House has become under Republican control. And he is also the Second Worst Person in the World. About Darrell Lucus \\nDarrell is a 30-something graduate of the University of North Carolina who considers himself a journalist of the old school. An attempt to turn him into a member of the religious right in college only succeeded in turning him into the religious right\\'s worst nightmare--a charismatic Christian who is an unapologetic liberal. His desire to stand up for those who have been scared into silence only increased when he survived an abusive three-year marriage. You may know him on Daily Kos as Christian Dem in NC . Follow him on Twitter @DarrellLucus or connect with him on Facebook . Click here to buy Darrell a Mello Yello. Connect',\n",
              "       'Ever get the feeling your life circles the roundabout rather than heads in a straight line toward the intended destination? [Hillary Clinton remains the big woman on campus in leafy, liberal Wellesley, Massachusetts. Everywhere else votes her most likely to don her inauguration dress for the remainder of her days the way Miss Havisham forever wore that wedding dress.  Speaking of Great Expectations, Hillary Rodham overflowed with them 48 years ago when she first addressed a Wellesley graduating class. The president of the college informed those gathered in 1969 that the students needed “no debate so far as I could ascertain as to who their spokesman was to be” (kind of the like the Democratic primaries in 2016 minus the   terms unknown then even at a Seven Sisters school). “I am very glad that Miss Adams made it clear that what I am speaking for today is all of us —  the 400 of us,” Miss Rodham told her classmates. After appointing herself Edger Bergen to the Charlie McCarthys and Mortimer Snerds in attendance, the    bespectacled in granny glasses (awarding her matronly wisdom —  or at least John Lennon wisdom) took issue with the previous speaker. Despite becoming the first   to win election to a seat in the U. S. Senate since Reconstruction, Edward Brooke came in for criticism for calling for “empathy” for the goals of protestors as he criticized tactics. Though Clinton in her senior thesis on Saul Alinsky lamented “Black Power demagogues” and “elitist arrogance and repressive intolerance” within the New Left, similar words coming out of a Republican necessitated a brief rebuttal. “Trust,” Rodham ironically observed in 1969, “this is one word that when I asked the class at our rehearsal what it was they wanted me to say for them, everyone came up to me and said ‘Talk about trust, talk about the lack of trust both for us and the way we feel about others. Talk about the trust bust.’ What can you say about it? What can you say about a feeling that permeates a generation and that perhaps is not even understood by those who are distrusted?” The “trust bust” certainly busted Clinton’s 2016 plans. She certainly did not even understand that people distrusted her. After Whitewater, Travelgate, the vast   conspiracy, Benghazi, and the missing emails, Clinton found herself the distrusted voice on Friday. There was a load of compromising on the road to the broadening of her political horizons. And distrust from the American people —  Trump edged her 48 percent to 38 percent on the question immediately prior to November’s election —  stood as a major reason for the closing of those horizons. Clinton described her vanquisher and his supporters as embracing a “lie,” a “con,” “alternative facts,” and “a   assault on truth and reason. ” She failed to explain why the American people chose his lies over her truth. “As the history majors among you here today know all too well, when people in power invent their own facts and attack those who question them, it can mark the beginning of the end of a free society,” she offered. “That is not hyperbole. ” Like so many people to emerge from the 1960s, Hillary Clinton embarked upon a long, strange trip. From high school Goldwater Girl and Wellesley College Republican president to Democratic politician, Clinton drank in the times and the place that gave her a degree. More significantly, she went from idealist to cynic, as a comparison of her two Wellesley commencement addresses show. Way back when, she lamented that “for too long our leaders have viewed politics as the art of the possible, and the challenge now is to practice politics as the art of making what appears to be impossible possible. ” Now, as the big woman on campus but the odd woman out of the White House, she wonders how her current station is even possible. “Why aren’t I 50 points ahead?” she asked in September. In May she asks why she isn’t president. The woman famously dubbed a “congenital liar” by Bill Safire concludes that lies did her in —  theirs, mind you, not hers. Getting stood up on Election Day, like finding yourself the jilted bride on your wedding day, inspires dangerous delusions.',\n",
              "       'Why the Truth Might Get You Fired October 29, 2016 \\nThe tension between intelligence analysts and political policymakers has always been between honest assessments and desired results, with the latter often overwhelming the former, as in the Iraq War, writes Lawrence Davidson. \\nBy Lawrence Davidson \\nFor those who might wonder why foreign policy makers repeatedly make bad choices, some insight might be drawn from the following analysis. The action here plays out in the United States, but the lessons are probably universal. \\nBack in the early spring of 2003, George W. Bush initiated the invasion of Iraq. One of his key public reasons for doing so was the claim that the country’s dictator, Saddam Hussein, was on the verge of developing nuclear weapons and was hiding other weapons of mass destruction. The real reason went beyond that charge and included a long-range plan for “regime change” in the Middle East. President George W. Bush and Vice President Dick Cheney receive an Oval Office briefing from CIA Director George Tenet. Also present is Chief of Staff Andy Card (on right). (White House photo) \\nFor our purposes, we will concentrate on the belief that Iraq was about to become a hostile nuclear power. Why did President Bush and his close associates accept this scenario so readily? \\nThe short answer is Bush wanted, indeed needed, to believe it as a rationale for invading Iraq. At first he had tried to connect Saddam Hussein to the 9/11 attacks on the U.S. Though he never gave up on that stratagem, the lack of evidence made it difficult to rally an American people, already fixated on Afghanistan, to support a war against Baghdad. \\nBut the nuclear weapons gambit proved more fruitful, not because there was any hard evidence for the charge, but because supposedly reliable witnesses, in the persons of exiled anti-Saddam Iraqis (many on the U.S. government’s payroll ), kept telling Bush and his advisers that the nuclear story was true. \\nWhat we had was a U.S. leadership cadre whose worldview literally demanded a mortally dangerous Iraq, and informants who, in order to precipitate the overthrow of Saddam, were willing to tell the tale of pending atomic weapons. The strong desire to believe the tale of a nuclear Iraq lowered the threshold for proof . Likewise, the repeated assertions by assumed dependable Iraqi sources underpinned a nationwide U.S. campaign generating both fear and war fever. \\nSo the U.S. and its allies insisted that the United Nations send in weapons inspectors to scour Iraq for evidence of a nuclear weapons program (as well as chemical and biological weapons). That the inspectors could find no convincing evidence only frustrated the Bush administration and soon forced its hand. \\nOn March 19, 2003, Bush launched the invasion of Iraq with the expectation was that, once in occupation of the country, U.S. inspectors would surely find evidence of those nukes (or at least stockpiles of chemical and biological weapons). They did not. Their Iraqi informants had systematically lied to them. \\nSocial and Behavioral Sciences to the Rescue? \\nThe various U.S. intelligence agencies were thoroughly shaken by this affair, and today, 13 years later, their directors and managers are still trying to sort it out – specifically, how to tell when they are getting “true” intelligence and when they are being lied to. Or, as one intelligence worker has put it, we need “ help to protect us against armies of snake oil salesmen. ” To that end the CIA et al. are in the market for academic assistance. Ahmed Chalabi, head of the Iraqi National Congress, a key supplier of Iraqi defectors with bogus stories of hidden WMD. \\nA “partnership” is being forged between the Office of the Director of National Intelligence (ODNI), which serves as the coordinating center for the sixteen independent U.S. intelligence agencies, and the National Academies of Sciences, Engineering and Medicine . The result of this collaboration will be a “ permanent Intelligence Community Studies Board” to coordinate programs in “social and behavioral science research [that] might strengthen national security .” \\nDespite this effort, it is almost certain that the “social and behavioral sciences” cannot give the spy agencies what they want – a way of detecting lies that is better than their present standard procedures of polygraph tests and interrogations. But even if they could, it might well make no difference, because the real problem is not to be found with the liars. It is to be found with the believers. \\nThe Believers \\nIt is simply not true, as the ODNI leaders seem to assert, that U.S. intelligence agency personnel cannot tell, more often than not, that they are being lied to. This is the case because there are thousands of middle-echelon intelligence workers, desk officers, and specialists who know something closely approaching the truth – that is, they know pretty well what is going on in places like Afghanistan, Iraq, Syria, Libya, Israel, Palestine and elsewhere. Director of National Intelligence James Clapper (right) talks with President Barack Obama in the Oval Office, with John Brennan and other national security aides present. (Photo credit: Office of Director of National Intelligence) \\nTherefore, if someone feeds them “snake oil,” they usually know it. However, having an accurate grasp of things is often to no avail because their superiors – those who got their appointments by accepting a pre-structured worldview – have different criterion for what is “true” than do the analysts. \\nListen to Charles Gaukel, of the National Intelligence Council – yet another organization that acts as a meeting ground for the 16 intelligence agencies. Referring to the search for a way to avoid getting taken in by lies, Gaukel has declared, “ We’re looking for truth. But we’re particularly looking for truth that works. ” Now what might that mean? \\nI can certainly tell you what it means historically. It means that for the power brokers, “truth” must match up, fit with, their worldview – their political and ideological precepts. If it does not fit, it does not “work.” So the intelligence specialists who send their usually accurate assessments up the line to the policy makers often hit a roadblock caused by “group think,” ideological blinkers, and a “we know better” attitude. \\nOn the other hand, as long as what you’re selling the leadership matches up with what they want to believe, you can peddle them anything: imaginary Iraqi nukes, Israel as a Western-style democracy, Saudi Arabia as an indispensable ally, Libya as a liberated country, Bashar al-Assad as the real roadblock to peace in Syria, the Strategic Defense Initiative (SDI) aka Star Wars, a world that is getting colder and not warmer, American exceptionalism in all its glory – the list is almost endless. \\nWhat does this sad tale tell us? If you want to spend millions of dollars on social and behavioral science research to improve the assessment and use of intelligence, forget about the liars. What you want to look for is an antidote to the narrow-mindedness of the believers – the policymakers who seem not to be able to rise above the ideological presumptions of their class – presumptions that underpin their self-confidence as they lead us all down slippery slopes. \\nIt has happened this way so often, and in so many places, that it is the source of Shakespeare’s determination that “what is past, is prelude.” Our elites play out our destinies as if they have no free will – no capacity to break with structured ways of seeing. Yet the middle-echelon specialists keep sending their relatively accurate assessments up the ladder of power. Hope springs eternal.',\n",
              "       ...,\n",
              "       'The Macy’s of today grew from the union of several great names in American retailing, including its namesake chain, Bloomingdale’s and Marshall Field’s. But the ambitious owner of Saks Fifth Avenue has broached the idea of taking the union even further, combining with Macy’s to create a department store juggernaut at a time when the industry is reeling. Hudson’s Bay Company, the Canadian owner of Saks, has approached Macy’s about a potential takeover, people briefed on the matter who were not authorized to speak publicly said on Friday. Talks between the two companies are at an early stage and may still fall apart or lead to a partnership of some kind rather than a sale. While it is unclear whether a deal will happen, a combination could lift the fortunes of Macy’s, the country’s biggest department store, which has been struggling. Investors certainly appeared to see it that way. Shares of Macy’s rose as much as 12 percent on Friday, its biggest intraday gain since Aug. 11, according to data from Bloomberg. Once a retail titan, Macy’s has struggled to remain relevant as   and discount retailers have decimated the traditional    business. Last month, Macy’s announced plans to cut more than 10, 000 jobs and close some of its 880 stores. Terry Lundgren, its chief executive and the architect of Macy’s last big merger, is expected to step down by the end of March. He will be succeeded by the company’s president, Jeffrey Gennette. Since the recession, shoppers have grown accustomed to hunt for bargains and to not pay full price. Discount stores and outlet malls have flourished. Traditional stores have been compelled to respond by trimming prices, which cuts into their margins. Departments stores have been hit especially hard, particularly as shoppers migrate away from malls. What has emerged, analysts say, is a virtual race to the bottom. That has been particularly difficult for Macy’s, born of a series of mergers over the past two decades that made it a juggernaut in the industry. A stalwart of the middle tier of retail, the company has neither the advantages of   retailers like HM nor the   stores. In addition, Macy’s faces increasingly fierce competition online from sites like Amazon and elsewhere. Macy’s troubles have drawn the attention of a prominent activist hedge fund, Starboard Value, which has urged the company to generate cash by selling the real estate beneath its stores. Starboard, which held just under 1 percent of Macy’s shares as of Sept. 30, had previously estimated the value of that land at about $21 billion. On Friday, analysts at Citigroup estimated that Macy’s   holdings could be worth at least $18 billion. Macy’s market value, by comparison, was just under $11 billion as of Friday morning. Macy’s has taken some steps to sell or redevelop stores, and last year, it added an expert on real estate transactions to its board. But the company has largely resisted more ambitious efforts to divest its real estate, including     deals, in which a company sells the underlying land beneath its stores and then rents it back. The company’s suitor, Hudson’s Bay Company, is far smaller  —   its market value was about 1. 9 billion Canadian dollars, or $1. 5 billion  —   but is known for its bold steps. Hudson’s Bay Company has assembled a growing empire that includes the Hudson’s Bay department store chain, Lord  Taylor and its crown jewel, Saks. And the governor and executive chairman of the Hudson’s Bay Company, Richard Baker, has shown little fear of using debt: In November 2014, the company borrowed nearly $4 billion against the Saks flagship in Midtown Manhattan. He has spoken often of retailers’ need to highlight the value of their real estate. Financing a bid for Macy’s may be trickier, however, because the it carries about $6. 5 billion in   debt. That may mean that the Hudson’s Bay Company will have to bring in a partner or borrow against more of its real estate holdings. A spokesman for the Hudson’s Bay Company declined to comment on the talks, which were reported earlier by The Wall Street Journal. “We do not comment on rumors and speculation,” a representative for Macy’s said. A representative for Starboard Value did not respond to a request for comment. Some analysts said that they saw the merit of a potential combination, particularly given Macy’s operational woes and Mr. Baker’s expertise in wringing money out of real estate. “There is a clear logic, despite disparity in   cap” between Macy’s and Hudson’s Bay Company, Craig Johnson, the president of Customer Growth Partners, a research firm, said in a note. Referring to Macy’s stock ticker symbol, he added, “The retail market has been changing faster than M has been able to keep up with, whether the flight from the mall or the migration online. ”',\n",
              "       'NATO, Russia To Hold Parallel Exercises In Balkans 11/02/2016 \\nPRESS TV \\nRussia’s military and NATO forces are holding parallel military exercises in two neighboring Balkan countries. \\nRussian troops will participate in war games in Serbia while NATO is conducting military drills in Montenegro, media reported on Monday. \\nRussian forces’ 13-day military exercise in Serbia is named “The Slavic Brotherhood 2016” and begins on Wednesday. \\nIt will include 150 Russian paratroopers, 50 air force staffers, three transport planes and an unspecified number of troops from Serbia and Belarus, Russia’s Defense Ministry said. \\nThe five-day NATO drill in Montenegro started on Monday and involves responding to floods and chemical attacks. It will involve 680 unarmed personnel from seven NATO countries and 10 partner states. \\nIn the past both Serbia and Montenegro were constitutional republics of the Socialist Federal Republic of Yugoslavia. \\nBoth countries are socialist republics and traditional Russian Christian Orthodox allies. In 2003 this state union was re-formed into Serbia and Montenegro, and in 2006 the two became independent states. \\nSince their split, the two Balkan neighbors seem to have headed in different directions strategically. \\nMontenegro has taken a pro-Western stance which has been awarded by NATO with an offer to join the Northern Atlantic Alliance. \\nThe NATO invitation to Montenegro has met strong opposition from Russia. \\nMeanwhile, Montenegrin officials have accused Russia of staging an alleged coup in October to topple its pro-Western government because of the NATO accession bid. \\nSerbia, a NATO partner, has held exercises with the Western alliance, but not such a large one or with foreign troops and equipment participating on its soil.',\n",
              "       \"  David Swanson is an author, activist, journalist, and radio host. He is a 2015 Nobel Peace Prize Nominee. He is director of WorldBeyondWar.com and campaign coordinator for RootsAction.org . He hosts Talk Nation Radio . Talk Nation Radio is on VT Radio and is syndicated by Pacifica Network. The show also airs on WTJU, Charlottesville, VA; WCSX-Detroit, MI; KGHI, Westport, WA; WHUS, Storrs, CT; WPRR, Grand Rapids, MI; KRFP-LP, Moscow, ID; KZGM, Cabool, MO; KMUD, Garberville, CA; WAZU, Peoria, IL; WXRD, Crown Point, IN; Geneva Radio, Geneva, NY; KKRN, Round Mountain, CA; KSKQ-LP, Ashland, OR; WUOW-LP, Oneonta, NY; No Lies Radio, Pinole, CA; WYAP-LP, Clay, WV; The Detour, Johnson City, TN; WZRD, Chicago, IL; WEFT, Champaign, IL; WXPI, Pittsburgh, PA; WDRT, Viroqua, WI; Veracity Now, online; Liberty and Justice Radio, Shirley, MA; Ithaca Community Radio, Ithaca, NY; WMCB, Greenfield, MA; PRX.org; KAOS 89.3fm, Olympia, WA; WUSB 90.1 FM, Stony Brook, NY; WOOL-FM, Bellow Falls, Vermont; WSLR-LP 96.5 in Sarasota, Florida. He also blogs at DavidSwanson.org and WarIsACrime.org And is a prolific author. His latest books are; War Is A Lie , Daybreak: Undoing the Imperial Presidency and Forming a More Perfect Union , and When the World Outlawed War Swanson holds a master's degree in philosophy from the University of Virginia. He has worked as a newspaper reporter and as a communications director, with jobs including press secretary for Dennis Kucinich's 2004 presidential campaign, media coordinator for the International Labor Communications Association, and three years as communications coordinator for ACORN, the Association of Community Organizations for Reform Now. Read his full and complete biography at DavidSwanson.org and also visit book site at War Is Crime . What Keeps the F-35 Alive By David Swanson on October 31, 2016 Petition to Stop F-35 Going Global \\nby David Swanson \\nImagine if a local business in your town invented a brand new tool that was intended to have an almost magical effect thousands of miles away. However, where the tool was kept and used locally became an area unsafe for children. Children who got near this tool tended to have increased blood pressure and increased stress hormones, lower reading skills, poorer memories, impaired auditory and speech perception, and impaired academic performance. \\nMost of us would find this situation at least a little concerning, unless the new invention was designed to murder lots of people. Then it’d be just fine. \\nNow, imagine if this same new tool ruined neighborhoods because people couldn’t safely live near it. Imagine if the government had to compensate people but kick them out of living near the location of this tool. Again, I think, we might find that troubling if mass murder were not the mission. \\nImagine also that this tool fairly frequently explodes, emitting highly toxic chemicals, particles, and fibers unsafe to breathe into the air for miles around. Normally, that’d be a problem. But if this tool is needed for killing lots of people, we’ll work with its flaws, won’t we? \\nNow, what if this new gadget was expected to cost at least $1,400,000,000,000 over 50 years? And what if that money had to be taken away from numerous other expenses more beneficial for the economy and the world? What if the $1.4 trillion was drained out of the economy causing a loss of jobs and a radical diminuition of resources for education, healthcare, housing, environmental protection, or humanitarian aid? Wouldn’t that be a worry in some cases, I mean in those cases where the ability to kill tons of human beings wasn’t at stake? \\nWhat if this product, even when working perfectly, was a leading destroyer of the earth’s natural environment? \\nWhat if this high-tech toy wasn’t even designed to do what was expected of it and wasn’t even able to do what it was designed for? \\nAmazingly, even those shortcomings do not matter as long as the intention is massive murder and destruction. Then, all is forgiven. \\nThe tool I’m describing is called the F-35. At RootsAction.org you can find a new petition launched by locally-minded people acting globally in places where the F-35 is intended to be based. Also at that link you’ll find explanations of how the tool I’ve been decribing is the F-35. \\nThe petition is directed to the United States Congress and the governments of Australia, Italy, the Netherlands, Norway, Turkey, the United Kingdom, Israel, Japan and South Korea from the world and from the people of Burlington, Vermont, and Fairbanks, Alaska, where the F-35 is to be based. This effort is being initiated by Vermont Stop the F35 Coalition, Save Our Skies Vermont, Western Maine Matters, Alaska Peace Center, University of Alaska Fairbanks Peace Club, North Star Chapter 146 Veterans For Peace, World Beyond War, RootsAction.org, Code Pink, and Ben Cohen. \\nThe petition reads: \\nThe F-35 is a weapon of offensive war, serving no defensive purpose. It is planned to cost the U.S. $1.4 trillion over 50 years. Because starvation on earth could be ended for $30 billion and the lack of clean drinking water for $11 billion per year, it is first and foremost through the wasting of resources that this airplane will kill. Military spending, contrary to popular misconception, also hurts the U.S. economy ( see here ) and other economies. The F-35 causes negative health impacts and cognitive impairment in children living near its bases. It renders housing near airports unsuitable for residential use. It has a high crash rate and horrible consequences to those living in the area of its crashes. Its emissions are a major environmental polluter. \\nWars are endangering the United States and other participating nations rather than protecting them. Nonviolent tools of law, diplomacy, aid, crisis prevention, and verifiable nuclear disarmament should be substituted for continuing counterproductive wars. Therefore, we, the undersigned, call for the immediate cancellation of the F-35 program as a whole, and the immediate cancellation of plans to base any such dangerous and noisy jets near populated areas. We oppose replacing the F-35 with any other weapon or basing the F-35 in any other locations. We further demand redirection of the money for the F-35 back into taxpayers’ pockets, and into environmental and human needs in the U.S., other F-35 customer nations, and around the world, including to fight climate change, pay off student debt, rebuild crumbling infrastructure, and improve education, healthcare, and housing. \\nAdd your name . \\nDavid Swanson is an author, activist, journalist, and radio host. He is director of WorldBeyondWar.org and campaign coordinator for RootsAction.org . Swanson’s books include War Is A Lie . He blogs at DavidSwanson.org and WarIsACrime.org . He hosts Talk Nation Radio .He is a 2015 and 2016 Nobel Peace Prize Nominee. \\nFollow him on Twitter: @davidcnswanson and FaceBook . \\nHelp support DavidSwanson.org, WarIsACrime.org, and TalkNationRadio.org by clicking here: http://davidswanson.org/donate .\"],\n",
              "      dtype=object)"
            ]
          },
          "metadata": {
            "tags": []
          },
          "execution_count": 10
        }
      ]
    },
    {
      "cell_type": "code",
      "metadata": {
        "colab": {
          "base_uri": "https://localhost:8080/"
        },
        "id": "k6PVo0vtbvfI",
        "outputId": "d93cec60-6008-4c19-8e77-d85675fcd8b5"
      },
      "source": [
        "import re\n",
        "import nltk\n",
        "nltk.download('stopwords')\n",
        "from nltk.corpus import stopwords\n",
        "from nltk.stem.porter import PorterStemmer\n",
        "corpus = []\n",
        "for i in range(0,20800):\n",
        "  review = re.sub('[^a-zA-Z]', ' ', str(data['news'][i]))\n",
        "  review = review.lower()\n",
        "  review = review.split()\n",
        "  ps = PorterStemmer()\n",
        "  all_stopwords = stopwords.words('english')\n",
        "  all_stopwords.remove('not')\n",
        "  review = [ps.stem(word) for word in review if not word in set(all_stopwords)]\n",
        "  review = ' '.join(review)\n",
        "  corpus.append(review)"
      ],
      "execution_count": null,
      "outputs": [
        {
          "output_type": "stream",
          "text": [
            "[nltk_data] Downloading package stopwords to /root/nltk_data...\n",
            "[nltk_data]   Unzipping corpora/stopwords.zip.\n"
          ],
          "name": "stdout"
        }
      ]
    },
    {
      "cell_type": "code",
      "metadata": {
        "id": "BPogh_lNndMr"
      },
      "source": [
        "from sklearn.feature_extraction.text import CountVectorizer\n",
        "cv = CountVectorizer(max_features = 5000,ngram_range=(1,1))\n",
        "x = cv.fit_transform(corpus).toarray()\n",
        "#y = data.iloc[:, 0].values\n",
        "from sklearn.model_selection import train_test_split\n",
        "x_train, x_test, y_train, y_test = train_test_split(x,y,test_size = 0.2, random_state = 0)"
      ],
      "execution_count": null,
      "outputs": []
    },
    {
      "cell_type": "code",
      "metadata": {
        "id": "TXcKppDJv5k7"
      },
      "source": [
        ""
      ],
      "execution_count": null,
      "outputs": []
    },
    {
      "cell_type": "code",
      "metadata": {
        "id": "ljU0gLaOv5hX"
      },
      "source": [
        ""
      ],
      "execution_count": null,
      "outputs": []
    },
    {
      "cell_type": "code",
      "metadata": {
        "colab": {
          "base_uri": "https://localhost:8080/"
        },
        "id": "z6cGPN0BgJcF",
        "outputId": "96ab0d68-7b6f-472a-8729-20210e5024a7"
      },
      "source": [
        "from sklearn.linear_model import LogisticRegression\n",
        "classifier1 = LogisticRegression(random_state = 0)\n",
        "classifier1.fit(x_train, y_train)\n",
        "y_pred1=classifier1.predict(x_test)"
      ],
      "execution_count": null,
      "outputs": [
        {
          "output_type": "stream",
          "text": [
            "/usr/local/lib/python3.6/dist-packages/sklearn/linear_model/_logistic.py:940: ConvergenceWarning: lbfgs failed to converge (status=1):\n",
            "STOP: TOTAL NO. of ITERATIONS REACHED LIMIT.\n",
            "\n",
            "Increase the number of iterations (max_iter) or scale the data as shown in:\n",
            "    https://scikit-learn.org/stable/modules/preprocessing.html\n",
            "Please also refer to the documentation for alternative solver options:\n",
            "    https://scikit-learn.org/stable/modules/linear_model.html#logistic-regression\n",
            "  extra_warning_msg=_LOGISTIC_SOLVER_CONVERGENCE_MSG)\n"
          ],
          "name": "stderr"
        }
      ]
    },
    {
      "cell_type": "code",
      "metadata": {
        "id": "f0OgWSJJilOB"
      },
      "source": [
        "from sklearn.neighbors import KNeighborsClassifier\n",
        "classifier2 = KNeighborsClassifier(n_neighbors = 10, metric = 'minkowski', p = 2)\n",
        "classifier2.fit(x_train, y_train)\n",
        "y_pred2=classifier2.predict(x_test)"
      ],
      "execution_count": null,
      "outputs": []
    },
    {
      "cell_type": "code",
      "metadata": {
        "id": "UNWahSb8oLiV"
      },
      "source": [
        "from sklearn.svm import SVC\n",
        "classifier3 = SVC(kernel = 'linear', random_state = 0)\n",
        "classifier3.fit(x_train, y_train)\n",
        "y_pred3=classifier3.predict(x_test)"
      ],
      "execution_count": null,
      "outputs": []
    },
    {
      "cell_type": "code",
      "metadata": {
        "id": "gtJ3VBxioLe0"
      },
      "source": [
        "from sklearn.naive_bayes import MultinomialNB\n",
        "classifier4=MultinomialNB()\n",
        "classifier4.fit(x_train, y_train)\n",
        "y_pred4=classifier4.predict(x_test)"
      ],
      "execution_count": null,
      "outputs": []
    },
    {
      "cell_type": "code",
      "metadata": {
        "id": "5c8-LcN6of3m"
      },
      "source": [
        "from sklearn.tree import DecisionTreeClassifier\n",
        "classifier5 = DecisionTreeClassifier(criterion = 'entropy', random_state = 0)\n",
        "classifier5.fit(x_train, y_train)\n",
        "y_pred5=classifier5.predict(x_test)"
      ],
      "execution_count": null,
      "outputs": []
    },
    {
      "cell_type": "code",
      "metadata": {
        "id": "vJXjwnmOofz-"
      },
      "source": [
        "from sklearn.ensemble import RandomForestClassifier\n",
        "classifier6 = RandomForestClassifier(n_estimators = 10, criterion = 'entropy', random_state = 0)\n",
        "classifier6.fit(x_train, y_train)\n",
        "y_pred6=classifier6.predict(x_test)"
      ],
      "execution_count": null,
      "outputs": []
    },
    {
      "cell_type": "code",
      "metadata": {
        "id": "iMzw-6nNv5dO"
      },
      "source": [
        "from sklearn.linear_model import  SGDClassifier\n",
        "classifier7 =  SGDClassifier(random_state=42)\n",
        "classifier7.fit(x_train, y_train) \n",
        "y_pred7 = classifier7.predict(x_test)"
      ],
      "execution_count": null,
      "outputs": []
    },
    {
      "cell_type": "code",
      "metadata": {
        "id": "wurG7hizv5aM"
      },
      "source": [
        "from sklearn.linear_model import PassiveAggressiveClassifier\n",
        "classifier8 = PassiveAggressiveClassifier()\n",
        "classifier8.fit(x_train, y_train)\n",
        "y_pred8=classifier8.predict(x_test)"
      ],
      "execution_count": null,
      "outputs": []
    },
    {
      "cell_type": "code",
      "metadata": {
        "id": "kyghJ3dw6JMS"
      },
      "source": [
        "from sklearn.ensemble import AdaBoostClassifier\n",
        "classifier9 = AdaBoostClassifier(n_estimators=100, random_state=0)\n",
        "classifier9.fit(x_train, y_train)\n",
        "y_pred9=classifier9.predict(x_test)"
      ],
      "execution_count": null,
      "outputs": []
    },
    {
      "cell_type": "code",
      "metadata": {
        "colab": {
          "base_uri": "https://localhost:8080/"
        },
        "id": "G46diaxy6JFw",
        "outputId": "07b1e14e-59ae-4fc7-c39a-2579dce58707"
      },
      "source": [
        "from sklearn.ensemble import VotingClassifier\n",
        "classifier10 = VotingClassifier(estimators=[('lr', classifier1), ('knn', classifier2), ('svc', classifier3)], voting='hard')\n",
        "classifier10.fit(x_train, y_train)\n",
        "y_pred10 = classifier10.predict(x_test)"
      ],
      "execution_count": null,
      "outputs": [
        {
          "output_type": "stream",
          "text": [
            "/usr/local/lib/python3.6/dist-packages/sklearn/linear_model/_logistic.py:940: ConvergenceWarning: lbfgs failed to converge (status=1):\n",
            "STOP: TOTAL NO. of ITERATIONS REACHED LIMIT.\n",
            "\n",
            "Increase the number of iterations (max_iter) or scale the data as shown in:\n",
            "    https://scikit-learn.org/stable/modules/preprocessing.html\n",
            "Please also refer to the documentation for alternative solver options:\n",
            "    https://scikit-learn.org/stable/modules/linear_model.html#logistic-regression\n",
            "  extra_warning_msg=_LOGISTIC_SOLVER_CONVERGENCE_MSG)\n"
          ],
          "name": "stderr"
        }
      ]
    },
    {
      "cell_type": "code",
      "metadata": {
        "id": "uO8sM65I6I8c"
      },
      "source": [
        ""
      ],
      "execution_count": null,
      "outputs": []
    },
    {
      "cell_type": "code",
      "metadata": {
        "id": "OBihnPLS6IzT"
      },
      "source": [
        ""
      ],
      "execution_count": null,
      "outputs": []
    },
    {
      "cell_type": "code",
      "metadata": {
        "colab": {
          "base_uri": "https://localhost:8080/"
        },
        "id": "SFQUrF5zv5XT",
        "outputId": "fd8f7f11-423e-4835-93a4-221ec92a293f"
      },
      "source": [
        "from sklearn.metrics import confusion_matrix,plot_confusion_matrix, balanced_accuracy_score, accuracy_score ,f1_score, precision_score, recall_score,classification_report, plot_roc_curve,roc_auc_score\n",
        "cm = confusion_matrix(y_test, y_pred1)\n",
        "print(cm)\n",
        "#plot_confusion_matrix(classifier,x_test,y_test,values_format='d')\n",
        "#plt.show()\n",
        "print(accuracy_score(y_test, y_pred1))\n",
        "print(f1_score(y_test, y_pred1,average='macro'))\n",
        "print(precision_score(y_test,y_pred1,average='macro'))\n",
        "print(recall_score(y_test,y_pred1,average='macro'))\n",
        "print(balanced_accuracy_score(y_test,y_pred1))\n",
        "print(classification_report(y_test, y_pred1))\n",
        "\n",
        "#plot_roc_curve(classifier1,x_test,y_test)\n",
        "\n",
        "print(roc_auc_score(y_test,y_pred1,average='macro'))"
      ],
      "execution_count": null,
      "outputs": [
        {
          "output_type": "stream",
          "text": [
            "[[1931  115]\n",
            " [  87 2027]]\n",
            "0.9514423076923076\n",
            "0.9514164347877567\n",
            "0.951599933002603\n",
            "0.9513192781725146\n",
            "0.9513192781725146\n",
            "              precision    recall  f1-score   support\n",
            "\n",
            "           0       0.96      0.94      0.95      2046\n",
            "           1       0.95      0.96      0.95      2114\n",
            "\n",
            "    accuracy                           0.95      4160\n",
            "   macro avg       0.95      0.95      0.95      4160\n",
            "weighted avg       0.95      0.95      0.95      4160\n",
            "\n",
            "0.9513192781725146\n"
          ],
          "name": "stdout"
        }
      ]
    },
    {
      "cell_type": "code",
      "metadata": {
        "colab": {
          "base_uri": "https://localhost:8080/"
        },
        "id": "rBKfjN49v5Uf",
        "outputId": "543ee7ad-f01b-4209-9b67-ccb99e293ccc"
      },
      "source": [
        "from sklearn.metrics import confusion_matrix,plot_confusion_matrix, balanced_accuracy_score, accuracy_score ,f1_score, precision_score, recall_score,classification_report, plot_roc_curve,roc_auc_score\n",
        "cm = confusion_matrix(y_test, y_pred2)\n",
        "print(cm)\n",
        "#plot_confusion_matrix(classifier,x_test,y_test,values_format='d')\n",
        "#plt.show()\n",
        "print(accuracy_score(y_test, y_pred2))\n",
        "print(f1_score(y_test, y_pred2,average='macro'))\n",
        "print(precision_score(y_test,y_pred2,average='macro'))\n",
        "print(recall_score(y_test,y_pred2,average='macro'))\n",
        "print(balanced_accuracy_score(y_test,y_pred2))\n",
        "print(classification_report(y_test, y_pred2))\n",
        "\n",
        "#plot_roc_curve(classifier1,x_test,y_test)\n",
        "\n",
        "print(roc_auc_score(y_test,y_pred2,average='macro'))"
      ],
      "execution_count": null,
      "outputs": [
        {
          "output_type": "stream",
          "text": [
            "[[1231  815]\n",
            " [ 111 2003]]\n",
            "0.7774038461538462\n",
            "0.769464480811528\n",
            "0.8140377115816039\n",
            "0.7745773417638404\n",
            "0.7745773417638404\n",
            "              precision    recall  f1-score   support\n",
            "\n",
            "           0       0.92      0.60      0.73      2046\n",
            "           1       0.71      0.95      0.81      2114\n",
            "\n",
            "    accuracy                           0.78      4160\n",
            "   macro avg       0.81      0.77      0.77      4160\n",
            "weighted avg       0.81      0.78      0.77      4160\n",
            "\n",
            "0.7745773417638404\n"
          ],
          "name": "stdout"
        }
      ]
    },
    {
      "cell_type": "code",
      "metadata": {
        "colab": {
          "base_uri": "https://localhost:8080/"
        },
        "id": "2Ft73J1Uv5RZ",
        "outputId": "cce3e8d0-6f3e-467a-8f7f-e8d2911e754c"
      },
      "source": [
        "from sklearn.metrics import confusion_matrix,plot_confusion_matrix,accuracy_score ,f1_score, precision_score, recall_score,classification_report, plot_roc_curve,roc_auc_score\n",
        "cm = confusion_matrix(y_test, y_pred3)\n",
        "print(cm)\n",
        "#plot_confusion_matrix(classifier,x_test,y_test,values_format='d')\n",
        "#plt.show()\n",
        "print(accuracy_score(y_test, y_pred3))\n",
        "print(f1_score(y_test, y_pred3,average='macro'))\n",
        "print(precision_score(y_test,y_pred3,average='macro'))\n",
        "print(recall_score(y_test,y_pred3,average='macro'))\n",
        "print(balanced_accuracy_score(y_test,y_pred3))\n",
        "print(classification_report(y_test, y_pred3))\n",
        "\n",
        "#plot_roc_curve(classifier1,x_test,y_test)\n",
        "\n",
        "print(roc_auc_score(y_test,y_pred3,average='macro'))"
      ],
      "execution_count": null,
      "outputs": [
        {
          "output_type": "stream",
          "text": [
            "[[1918  128]\n",
            " [  98 2016]]\n",
            "0.9456730769230769\n",
            "0.9456429106482217\n",
            "0.9458436981757877\n",
            "0.9455406446434005\n",
            "0.9455406446434005\n",
            "              precision    recall  f1-score   support\n",
            "\n",
            "           0       0.95      0.94      0.94      2046\n",
            "           1       0.94      0.95      0.95      2114\n",
            "\n",
            "    accuracy                           0.95      4160\n",
            "   macro avg       0.95      0.95      0.95      4160\n",
            "weighted avg       0.95      0.95      0.95      4160\n",
            "\n",
            "0.9455406446434005\n"
          ],
          "name": "stdout"
        }
      ]
    },
    {
      "cell_type": "code",
      "metadata": {
        "colab": {
          "base_uri": "https://localhost:8080/"
        },
        "id": "NXUiA4xyv5Oa",
        "outputId": "f6081ec9-1478-4495-ffdd-43d2756c87c6"
      },
      "source": [
        "from sklearn.metrics import confusion_matrix,plot_confusion_matrix,accuracy_score ,f1_score, precision_score, recall_score,classification_report, plot_roc_curve,roc_auc_score\n",
        "cm = confusion_matrix(y_test, y_pred4)\n",
        "print(cm)\n",
        "#plot_confusion_matrix(classifier,x_test,y_test,values_format='d')\n",
        "#plt.show()\n",
        "print(accuracy_score(y_test, y_pred4))\n",
        "print(f1_score(y_test, y_pred4,average='macro'))\n",
        "print(precision_score(y_test,y_pred4,average='macro'))\n",
        "print(recall_score(y_test,y_pred4,average='macro'))\n",
        "print(balanced_accuracy_score(y_test,y_pred4))\n",
        "print(classification_report(y_test, y_pred4))\n",
        "\n",
        "#plot_roc_curve(classifier1,x_test,y_test)\n",
        "\n",
        "print(roc_auc_score(y_test,y_pred4,average='macro'))"
      ],
      "execution_count": null,
      "outputs": [
        {
          "output_type": "stream",
          "text": [
            "[[1878  168]\n",
            " [ 317 1797]]\n",
            "0.8834134615384616\n",
            "0.883369243805971\n",
            "0.8850423411987689\n",
            "0.8839679333697705\n",
            "0.8839679333697705\n",
            "              precision    recall  f1-score   support\n",
            "\n",
            "           0       0.86      0.92      0.89      2046\n",
            "           1       0.91      0.85      0.88      2114\n",
            "\n",
            "    accuracy                           0.88      4160\n",
            "   macro avg       0.89      0.88      0.88      4160\n",
            "weighted avg       0.89      0.88      0.88      4160\n",
            "\n",
            "0.8839679333697706\n"
          ],
          "name": "stdout"
        }
      ]
    },
    {
      "cell_type": "code",
      "metadata": {
        "colab": {
          "base_uri": "https://localhost:8080/"
        },
        "id": "1Cf9wgJyv5L0",
        "outputId": "52e1c414-3e94-4f76-c14b-e9b9b32810d7"
      },
      "source": [
        "from sklearn.metrics import confusion_matrix,plot_confusion_matrix,accuracy_score ,f1_score, precision_score, recall_score,classification_report, plot_roc_curve,roc_auc_score\n",
        "cm = confusion_matrix(y_test, y_pred5)\n",
        "print(cm)\n",
        "#plot_confusion_matrix(classifier,x_test,y_test,values_format='d')\n",
        "#plt.show()\n",
        "print(accuracy_score(y_test, y_pred5))\n",
        "print(f1_score(y_test, y_pred5,average='macro'))\n",
        "print(precision_score(y_test,y_pred5,average='macro'))\n",
        "print(recall_score(y_test,y_pred5,average='macro'))\n",
        "print(balanced_accuracy_score(y_test,y_pred5))\n",
        "print(classification_report(y_test, y_pred5))\n",
        "\n",
        "#plot_roc_curve(classifier1,x_test,y_test)\n",
        "\n",
        "print(roc_auc_score(y_test,y_pred5,average='macro'))"
      ],
      "execution_count": null,
      "outputs": [
        {
          "output_type": "stream",
          "text": [
            "[[1901  145]\n",
            " [ 140 1974]]\n",
            "0.9314903846153846\n",
            "0.9314692816083632\n",
            "0.931488834716532\n",
            "0.9314524221061286\n",
            "0.9314524221061286\n",
            "              precision    recall  f1-score   support\n",
            "\n",
            "           0       0.93      0.93      0.93      2046\n",
            "           1       0.93      0.93      0.93      2114\n",
            "\n",
            "    accuracy                           0.93      4160\n",
            "   macro avg       0.93      0.93      0.93      4160\n",
            "weighted avg       0.93      0.93      0.93      4160\n",
            "\n",
            "0.9314524221061286\n"
          ],
          "name": "stdout"
        }
      ]
    },
    {
      "cell_type": "code",
      "metadata": {
        "colab": {
          "base_uri": "https://localhost:8080/"
        },
        "id": "g4Cu91oJv5JC",
        "outputId": "1825afdd-3c18-4697-b6c8-c65cdc44bf64"
      },
      "source": [
        "from sklearn.metrics import confusion_matrix,plot_confusion_matrix,accuracy_score ,f1_score, precision_score, recall_score,classification_report, plot_roc_curve,roc_auc_score\n",
        "cm = confusion_matrix(y_test, y_pred6)\n",
        "print(cm)\n",
        "#plot_confusion_matrix(classifier,x_test,y_test,values_format='d')\n",
        "#plt.show()\n",
        "print(accuracy_score(y_test, y_pred6))\n",
        "print(f1_score(y_test, y_pred6,average='macro'))\n",
        "print(precision_score(y_test,y_pred6,average='macro'))\n",
        "print(recall_score(y_test,y_pred6,average='macro'))\n",
        "print(balanced_accuracy_score(y_test,y_pred6))\n",
        "print(classification_report(y_test, y_pred6))\n",
        "\n",
        "#plot_roc_curve(classifier1,x_test,y_test)\n",
        "\n",
        "print(roc_auc_score(y_test,y_pred6,average='macro'))"
      ],
      "execution_count": null,
      "outputs": [
        {
          "output_type": "stream",
          "text": [
            "[[1934  112]\n",
            " [ 291 1823]]\n",
            "0.903125\n",
            "0.9030559791465805\n",
            "0.9056661730975815\n",
            "0.9038026525208751\n",
            "0.9038026525208751\n",
            "              precision    recall  f1-score   support\n",
            "\n",
            "           0       0.87      0.95      0.91      2046\n",
            "           1       0.94      0.86      0.90      2114\n",
            "\n",
            "    accuracy                           0.90      4160\n",
            "   macro avg       0.91      0.90      0.90      4160\n",
            "weighted avg       0.91      0.90      0.90      4160\n",
            "\n",
            "0.9038026525208751\n"
          ],
          "name": "stdout"
        }
      ]
    },
    {
      "cell_type": "code",
      "metadata": {
        "colab": {
          "base_uri": "https://localhost:8080/"
        },
        "id": "4U7gCPT2v5GK",
        "outputId": "acba1bd6-c57b-4a91-9d01-b15c9c245b25"
      },
      "source": [
        "from sklearn.metrics import confusion_matrix,plot_confusion_matrix,accuracy_score ,f1_score, precision_score, recall_score,classification_report, plot_roc_curve,roc_auc_score\n",
        "cm = confusion_matrix(y_test, y_pred7)\n",
        "print(cm)\n",
        "#plot_confusion_matrix(classifier,x_test,y_test,values_format='d')\n",
        "#plt.show()\n",
        "print(accuracy_score(y_test, y_pred7))\n",
        "print(f1_score(y_test, y_pred7,average='macro'))\n",
        "print(precision_score(y_test,y_pred7,average='macro'))\n",
        "print(recall_score(y_test,y_pred7,average='macro'))\n",
        "print(balanced_accuracy_score(y_test,y_pred7))\n",
        "print(classification_report(y_test, y_pred7))\n",
        "\n",
        "#plot_roc_curve(classifier1,x_test,y_test)\n",
        "\n",
        "print(roc_auc_score(y_test,y_pred7,average='macro'))"
      ],
      "execution_count": null,
      "outputs": [
        {
          "output_type": "stream",
          "text": [
            "[[1915  131]\n",
            " [  90 2024]]\n",
            "0.946875\n",
            "0.9468385024643918\n",
            "0.9471616781711614\n",
            "0.9466996544010002\n",
            "0.9466996544010002\n",
            "              precision    recall  f1-score   support\n",
            "\n",
            "           0       0.96      0.94      0.95      2046\n",
            "           1       0.94      0.96      0.95      2114\n",
            "\n",
            "    accuracy                           0.95      4160\n",
            "   macro avg       0.95      0.95      0.95      4160\n",
            "weighted avg       0.95      0.95      0.95      4160\n",
            "\n",
            "0.9466996544010002\n"
          ],
          "name": "stdout"
        }
      ]
    },
    {
      "cell_type": "code",
      "metadata": {
        "colab": {
          "base_uri": "https://localhost:8080/"
        },
        "id": "KyjMJR1vv5Aq",
        "outputId": "3eb2be5d-aa26-4a36-f3a4-d5b8007da98d"
      },
      "source": [
        "from sklearn.metrics import confusion_matrix,plot_confusion_matrix, balanced_accuracy_score, accuracy_score ,f1_score, precision_score, recall_score,classification_report, plot_roc_curve,roc_auc_score\n",
        "cm = confusion_matrix(y_test, y_pred8)\n",
        "print(cm)\n",
        "#plot_confusion_matrix(classifier,x_test,y_test,values_format='d')\n",
        "#plt.show()\n",
        "print(accuracy_score(y_test, y_pred8))\n",
        "print(f1_score(y_test, y_pred8,average='macro'))\n",
        "print(precision_score(y_test,y_pred8,average='macro'))\n",
        "print(recall_score(y_test,y_pred8,average='macro'))\n",
        "print(balanced_accuracy_score(y_test,y_pred8))\n",
        "print(classification_report(y_test, y_pred8))\n",
        "\n",
        "#plot_roc_curve(classifier1,x_test,y_test)\n",
        "\n",
        "print(roc_auc_score(y_test,y_pred8,average='macro'))"
      ],
      "execution_count": null,
      "outputs": [
        {
          "output_type": "stream",
          "text": [
            "[[1922  124]\n",
            " [  92 2022]]\n",
            "0.948076923076923\n",
            "0.9480469021022688\n",
            "0.9482689209087183\n",
            "0.9479372724405837\n",
            "0.9479372724405837\n",
            "              precision    recall  f1-score   support\n",
            "\n",
            "           0       0.95      0.94      0.95      2046\n",
            "           1       0.94      0.96      0.95      2114\n",
            "\n",
            "    accuracy                           0.95      4160\n",
            "   macro avg       0.95      0.95      0.95      4160\n",
            "weighted avg       0.95      0.95      0.95      4160\n",
            "\n",
            "0.9479372724405838\n"
          ],
          "name": "stdout"
        }
      ]
    },
    {
      "cell_type": "code",
      "metadata": {
        "colab": {
          "base_uri": "https://localhost:8080/"
        },
        "id": "ASyZDssZ6WJ1",
        "outputId": "e250ddab-e3a0-4293-ee4d-9eee8850f917"
      },
      "source": [
        "from sklearn.metrics import confusion_matrix,plot_confusion_matrix, balanced_accuracy_score, accuracy_score ,f1_score, precision_score, recall_score,classification_report, plot_roc_curve,roc_auc_score\n",
        "cm = confusion_matrix(y_test, y_pred9)\n",
        "print(cm)\n",
        "#plot_confusion_matrix(classifier,x_test,y_test,values_format='d')\n",
        "#plt.show()\n",
        "print(accuracy_score(y_test, y_pred9))\n",
        "print(f1_score(y_test, y_pred9,average='macro'))\n",
        "print(precision_score(y_test,y_pred9,average='macro'))\n",
        "print(recall_score(y_test,y_pred9,average='macro'))\n",
        "print(balanced_accuracy_score(y_test,y_pred9))\n",
        "print(classification_report(y_test, y_pred9))\n",
        "\n",
        "#plot_roc_curve(classifier1,x_test,y_test)\n",
        "\n",
        "print(roc_auc_score(y_test,y_pred9,average='macro'))"
      ],
      "execution_count": null,
      "outputs": [
        {
          "output_type": "stream",
          "text": [
            "[[1954   92]\n",
            " [  85 2029]]\n",
            "0.9574519230769231\n",
            "0.9574380887833653\n",
            "0.9574685661658018\n",
            "0.9574130384320515\n",
            "0.9574130384320515\n",
            "              precision    recall  f1-score   support\n",
            "\n",
            "           0       0.96      0.96      0.96      2046\n",
            "           1       0.96      0.96      0.96      2114\n",
            "\n",
            "    accuracy                           0.96      4160\n",
            "   macro avg       0.96      0.96      0.96      4160\n",
            "weighted avg       0.96      0.96      0.96      4160\n",
            "\n",
            "0.9574130384320515\n"
          ],
          "name": "stdout"
        }
      ]
    },
    {
      "cell_type": "code",
      "metadata": {
        "colab": {
          "base_uri": "https://localhost:8080/"
        },
        "id": "SNRgbSwS9JJa",
        "outputId": "75cfcf85-4f25-44fc-8f85-7dea0bb4808a"
      },
      "source": [
        "from sklearn.metrics import confusion_matrix,plot_confusion_matrix, balanced_accuracy_score, accuracy_score ,f1_score, precision_score, recall_score,classification_report, plot_roc_curve,roc_auc_score\n",
        "cm = confusion_matrix(y_test, y_pred10)\n",
        "print(cm)\n",
        "#plot_confusion_matrix(classifier,x_test,y_test,values_format='d')\n",
        "#plt.show()\n",
        "print(accuracy_score(y_test, y_pred10))\n",
        "print(f1_score(y_test, y_pred10,average='macro'))\n",
        "print(precision_score(y_test,y_pred10,average='macro'))\n",
        "print(recall_score(y_test,y_pred10,average='macro'))\n",
        "print(balanced_accuracy_score(y_test,y_pred10))\n",
        "print(classification_report(y_test, y_pred10))\n",
        "\n",
        "#plot_roc_curve(classifier1,x_test,y_test)\n",
        "\n",
        "print(roc_auc_score(y_test,y_pred10,average='macro'))"
      ],
      "execution_count": null,
      "outputs": [
        {
          "output_type": "stream",
          "text": [
            "[[1910  136]\n",
            " [  83 2031]]\n",
            "0.9473557692307693\n",
            "0.9473111930922975\n",
            "0.9477973321947536\n",
            "0.9471333871568863\n",
            "0.9471333871568863\n",
            "              precision    recall  f1-score   support\n",
            "\n",
            "           0       0.96      0.93      0.95      2046\n",
            "           1       0.94      0.96      0.95      2114\n",
            "\n",
            "    accuracy                           0.95      4160\n",
            "   macro avg       0.95      0.95      0.95      4160\n",
            "weighted avg       0.95      0.95      0.95      4160\n",
            "\n",
            "0.9471333871568864\n"
          ],
          "name": "stdout"
        }
      ]
    },
    {
      "cell_type": "code",
      "metadata": {
        "id": "mNA2VAeKw-Q7"
      },
      "source": [
        ""
      ],
      "execution_count": null,
      "outputs": []
    },
    {
      "cell_type": "code",
      "metadata": {
        "id": "jV3OhjvHw-NV"
      },
      "source": [
        ""
      ],
      "execution_count": null,
      "outputs": []
    }
  ]
}